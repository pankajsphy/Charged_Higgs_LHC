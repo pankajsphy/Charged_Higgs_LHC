{
 "cells": [
  {
   "cell_type": "code",
   "execution_count": 151,
   "metadata": {},
   "outputs": [],
   "source": [
    "import json\n",
    "import matplotlib as mpl\n",
    "from matplotlib import pyplot as plt\n",
    "import numpy as np\n",
    "import pandas as pd\n",
    "import math\n",
    "from collections import defaultdict\n",
    "%matplotlib inline\n",
    "from helper import *"
   ]
  },
  {
   "cell_type": "markdown",
   "metadata": {},
   "source": [
    "Setting the font sizes for various items in plotting the figures"
   ]
  },
  {
   "cell_type": "code",
   "execution_count": 2,
   "metadata": {
    "collapsed": true
   },
   "outputs": [],
   "source": [
    "SMALL_SIZE = 12\n",
    "MEDIUM_SIZE = 14\n",
    "BIGGER_SIZE = 16\n",
    "\n",
    "plt.rc('font', size=SMALL_SIZE)          # controls default text sizes\n",
    "plt.rc('axes', titlesize=SMALL_SIZE)     # fontsize of the axes title\n",
    "plt.rc('axes', labelsize=MEDIUM_SIZE)    # fontsize of the x and y labels\n",
    "plt.rc('xtick', labelsize=SMALL_SIZE)    # fontsize of the tick labels\n",
    "plt.rc('ytick', labelsize=SMALL_SIZE)    # fontsize of the tick labels\n",
    "plt.rc('legend', fontsize=SMALL_SIZE)    # legend fontsize\n",
    "plt.rc('figure', titlesize=BIGGER_SIZE)  # fontsize of the figure title"
   ]
  },
  {
   "cell_type": "markdown",
   "metadata": {},
   "source": [
    "## Importing the data\n",
    "- The data being imported corresponds to benchmark point BP5 for type II 2HDM,\n",
    "\n",
    "   $$M_{H^+}=548 GeV, M_A=258 GeV, \\tan\\beta= 44, \\sin(\\beta-\\alpha)=0.99$$ \n",
    "   \n",
    "- twbb_sig.json -> signal events\n",
    "- twbb_bck.json -> background events\n",
    "- twbb_tot.json -> signal + background + interference events"
   ]
  },
  {
   "cell_type": "code",
   "execution_count": 3,
   "metadata": {
    "collapsed": true
   },
   "outputs": [],
   "source": [
    "dta_sig = pd.read_json('twbb_sig.json',orient='records')\n",
    "dta_bck = pd.read_json('twbb_bck.json',orient='records')\n",
    "dta_tot = pd.read_json('twbb_tot.json',orient='records')"
   ]
  },
  {
   "cell_type": "markdown",
   "metadata": {},
   "source": [
    "## Data Cleaning\n",
    "All those events which contain there nan values are removed from the event list. For this purpose, a function 'remove_nan_events()' is included in the helper.py module. This function takes the data files and returns cleaned data file, i.e., after all nan values have been removed and a list which give the event numbers which have been purged."
   ]
  },
  {
   "cell_type": "code",
   "execution_count": 4,
   "metadata": {
    "collapsed": true,
    "scrolled": false
   },
   "outputs": [],
   "source": [
    "dta_sig,deleted_events_sig = remove_nan_events(dta_sig)\n",
    "dta_bck,deleted_events_bck = remove_nan_events(dta_bck)\n",
    "dta_tot,deleted_events_tot = remove_nan_events(dta_tot)"
   ]
  },
  {
   "cell_type": "markdown",
   "metadata": {},
   "source": [
    "### CUT-2: Cut on the number of jets in the event.\n",
    "\n",
    "For our process, we expect at least 5 jets at the detector out of which 3 should be b-tagged and remaining are light jets. In the following cut, we just impose to have events where total number of jets are larger or equal to 5. Note that the a cut regarding only one lepton has already been implemented in the json data files."
   ]
  },
  {
   "cell_type": "code",
   "execution_count": 5,
   "metadata": {
    "collapsed": true
   },
   "outputs": [],
   "source": [
    "dta_sig=dta_sig.loc[dta_sig['Jet'].map(len)>4,:]\n",
    "dta_sig.reset_index(drop=True,inplace=True)\n",
    "\n",
    "dta_bck=dta_bck.loc[dta_bck['Jet'].map(len)>4,:]\n",
    "dta_bck.reset_index(drop=True,inplace=True)\n",
    "\n",
    "dta_tot=dta_tot.loc[dta_tot['Jet'].map(len)>4,:]\n",
    "dta_tot.reset_index(drop=True,inplace=True)"
   ]
  },
  {
   "cell_type": "code",
   "execution_count": 6,
   "metadata": {},
   "outputs": [
    {
     "name": "stdout",
     "output_type": "stream",
     "text": [
      "                                       Signal      Background         Total\n",
      "Number of events after Cut-2:          15421           8253           8279\n"
     ]
    }
   ],
   "source": [
    "n_sig_2=len(dta_sig)\n",
    "n_bck_2=len(dta_bck)\n",
    "n_tot_2=len(dta_tot)\n",
    "\n",
    "print('{:>45}{:>16}{:>14}'.format('Signal','Background','Total'))\n",
    "print('Number of events after Cut-2:{:15}{:15}{:15}'.format(n_sig_2,n_bck_2,n_tot_2))"
   ]
  },
  {
   "cell_type": "markdown",
   "metadata": {},
   "source": [
    "## Plotting the distributions\n",
    "In the following, we use Dist_plot() function to plot the distributions for various objects in the events. Dist_plot() has been defined in helper.py module and it performs following tasks:\n",
    "- The function takes inputs of list of four momenta corresponding to a object for a number of events for two different processes, i.e., signal and total in the following illustration\n",
    "- It then plots distribution corresponding to transverse momentum $p_T$, pseudo-rapidity $\\eta$ and Energy $E$ of the objects for each process"
   ]
  },
  {
   "cell_type": "code",
   "execution_count": 7,
   "metadata": {},
   "outputs": [
    {
     "name": "stderr",
     "output_type": "stream",
     "text": [
      "/usr/lib64/python3.4/site-packages/matplotlib/font_manager.py:1297: UserWarning: findfont: Font family ['Ubuntu Mono'] not found. Falling back to DejaVu Sans\n",
      "  (prop.get_family(), self.defaultFamily[fontext]))\n"
     ]
    },
    {
     "data": {
      "image/png": "[encoded data removed]",
      "text/plain": [
       "<matplotlib.figure.Figure at 0x7f6997af3630>"
      ]
     },
     "metadata": {},
     "output_type": "display_data"
    }
   ],
   "source": [
    "Dist_plot(dta_sig['Lepton'],dta_tot['Lepton'],(12,4),'Lepton',[10,800],[10,600])"
   ]
  },
  {
   "cell_type": "code",
   "execution_count": 8,
   "metadata": {
    "collapsed": true,
    "scrolled": false
   },
   "outputs": [],
   "source": [
    "def jet_vars(dta):\n",
    "    Jet_1=[]\n",
    "    Jet_2=[]\n",
    "    Jet_3=[]\n",
    "    Jet_4=[]\n",
    "    Jet_5=[]\n",
    "\n",
    "    for i in range(len(dta)):\n",
    "        \n",
    "        if(type(dta['Jet'][i]) is list and len(dta['Jet'][i])>4):\n",
    "            Jet_1.append(dta['Jet'][i][0])\n",
    "            Jet_2.append(dta['Jet'][i][1])\n",
    "            Jet_3.append(dta['Jet'][i][2])        \n",
    "            Jet_4.append(dta['Jet'][i][3])\n",
    "            Jet_5.append(dta['Jet'][i][4])\n",
    "        \n",
    "    Jet_1=pd.Series(Jet_1) \n",
    "    Jet_2=pd.Series(Jet_2) \n",
    "    Jet_3=pd.Series(Jet_3) \n",
    "    Jet_4=pd.Series(Jet_4) \n",
    "    Jet_5=pd.Series(Jet_5)\n",
    "    return Jet_1,Jet_2,Jet_3,Jet_4,Jet_5"
   ]
  },
  {
   "cell_type": "code",
   "execution_count": 9,
   "metadata": {
    "collapsed": true
   },
   "outputs": [],
   "source": [
    "Jet_1_sig,Jet_2_sig,Jet_3_sig,Jet_4_sig,Jet_5_sig = jet_vars(dta_sig)\n",
    "Jet_1_bck,Jet_2_bck,Jet_3_bck,Jet_4_bck,Jet_5_bck = jet_vars(dta_bck)\n",
    "Jet_1_tot,Jet_2_tot,Jet_3_tot,Jet_4_tot,Jet_5_tot = jet_vars(dta_tot)"
   ]
  },
  {
   "cell_type": "code",
   "execution_count": 10,
   "metadata": {
    "collapsed": true,
    "scrolled": true
   },
   "outputs": [],
   "source": [
    "Lepton_sig=dta_sig['Lepton'].apply(pd.Series)\n",
    "Lepton_bck=dta_bck['Lepton'].apply(pd.Series)\n",
    "Lepton_tot=dta_tot['Lepton'].apply(pd.Series)\n",
    "\n",
    "Lepton_sig.columns=['pT','Eta','Phi','PId']\n",
    "Lepton_bck.columns=['pT','Eta','Phi','PId']\n",
    "Lepton_tot.columns=['pT','Eta','Phi','PId']"
   ]
  },
  {
   "cell_type": "code",
   "execution_count": 89,
   "metadata": {
    "collapsed": true
   },
   "outputs": [],
   "source": [
    "Lepton={'sig':Lepton_sig,'bck':Lepton_bck,'tot':Lepton_tot}"
   ]
  },
  {
   "cell_type": "code",
   "execution_count": 11,
   "metadata": {
    "collapsed": true
   },
   "outputs": [],
   "source": [
    "Jet_1_sig=Jet_1_sig.apply(pd.Series)\n",
    "Jet_2_sig=Jet_2_sig.apply(pd.Series)\n",
    "Jet_3_sig=Jet_3_sig.apply(pd.Series)\n",
    "Jet_4_sig=Jet_4_sig.apply(pd.Series)\n",
    "Jet_5_sig=Jet_5_sig.apply(pd.Series)\n",
    "\n",
    "Jet_1_sig.columns=['pT','Eta','Phi','BTag']\n",
    "Jet_2_sig.columns=['pT','Eta','Phi','BTag']\n",
    "Jet_3_sig.columns=['pT','Eta','Phi','BTag']\n",
    "Jet_4_sig.columns=['pT','Eta','Phi','BTag']\n",
    "Jet_5_sig.columns=['pT','Eta','Phi','BTag']"
   ]
  },
  {
   "cell_type": "code",
   "execution_count": 12,
   "metadata": {
    "collapsed": true
   },
   "outputs": [],
   "source": [
    "Jet_1_bck=Jet_1_bck.apply(pd.Series)\n",
    "Jet_2_bck=Jet_2_bck.apply(pd.Series)\n",
    "Jet_3_bck=Jet_3_bck.apply(pd.Series)\n",
    "Jet_4_bck=Jet_4_bck.apply(pd.Series)\n",
    "Jet_5_bck=Jet_5_bck.apply(pd.Series)\n",
    "\n",
    "Jet_1_bck.columns=['pT','Eta','Phi','BTag']\n",
    "Jet_2_bck.columns=['pT','Eta','Phi','BTag']\n",
    "Jet_3_bck.columns=['pT','Eta','Phi','BTag']\n",
    "Jet_4_bck.columns=['pT','Eta','Phi','BTag']\n",
    "Jet_5_bck.columns=['pT','Eta','Phi','BTag']"
   ]
  },
  {
   "cell_type": "code",
   "execution_count": 13,
   "metadata": {
    "collapsed": true
   },
   "outputs": [],
   "source": [
    "Jet_1_tot=Jet_1_tot.apply(pd.Series)\n",
    "Jet_2_tot=Jet_2_tot.apply(pd.Series)\n",
    "Jet_3_tot=Jet_3_tot.apply(pd.Series)\n",
    "Jet_4_tot=Jet_4_tot.apply(pd.Series)\n",
    "Jet_5_tot=Jet_5_tot.apply(pd.Series)\n",
    "\n",
    "Jet_1_tot.columns=['pT','Eta','Phi','BTag']\n",
    "Jet_2_tot.columns=['pT','Eta','Phi','BTag']\n",
    "Jet_3_tot.columns=['pT','Eta','Phi','BTag']\n",
    "Jet_4_tot.columns=['pT','Eta','Phi','BTag']\n",
    "Jet_5_tot.columns=['pT','Eta','Phi','BTag']"
   ]
  },
  {
   "cell_type": "code",
   "execution_count": 87,
   "metadata": {},
   "outputs": [],
   "source": [
    "Jet_1={'sig':Jet_1_sig, 'bck':Jet_1_tot, 'tot':Jet_1_tot}\n",
    "Jet_2={'sig':Jet_2_sig, 'bck':Jet_2_tot, 'tot':Jet_2_tot}\n",
    "Jet_3={'sig':Jet_3_sig, 'bck':Jet_3_tot, 'tot':Jet_3_tot}\n",
    "Jet_4={'sig':Jet_4_sig, 'bck':Jet_4_tot, 'tot':Jet_4_tot}\n",
    "Jet_5={'sig':Jet_5_sig, 'bck':Jet_5_tot, 'tot':Jet_5_tot}"
   ]
  },
  {
   "cell_type": "code",
   "execution_count": null,
   "metadata": {
    "collapsed": true,
    "scrolled": false
   },
   "outputs": [],
   "source": [
    "figsize=(12,4)\n",
    "label_1='Jet_1'\n",
    "range_1=[10,1000]\n",
    "range_2=[10,800]\n",
    "\n",
    "Dist_plot(Jet_1_bck,Jet_1_tot,figsize,label_1,range_1,range_2)\n",
    "Dist_plot(Jet_2_bck,Jet_2_tot,(12, 4),'Jet_2',[10,1000],[10,600])\n",
    "Dist_plot(Jet_3_bck,Jet_3_tot,(12, 4),'Jet_3',[10,800],[10,500])\n",
    "Dist_plot(Jet_4_bck,Jet_4_tot,(12, 4),'Jet_4',[10,700],[10,400])\n",
    "Dist_plot(Jet_5_bck,Jet_5_tot,(12, 4),'Jet_5',[10,600],[10,300])"
   ]
  },
  {
   "cell_type": "code",
   "execution_count": null,
   "metadata": {
    "collapsed": true,
    "scrolled": false
   },
   "outputs": [],
   "source": [
    "Dist_plot(Jet_1_sig,Jet_1_tot,(12, 4),'Jet_1')\n",
    "Dist_plot(Jet_2_sig,Jet_2_tot,(12, 4),'Jet_2')\n",
    "Dist_plot(Jet_3_sig,Jet_3_tot,(12, 4),'Jet_3')\n",
    "Dist_plot(Jet_4_sig,Jet_4_tot,(12, 4),'Jet_4')\n",
    "Dist_plot(Jet_5_sig,Jet_5_tot,(12, 4),'Jet_5')"
   ]
  },
  {
   "cell_type": "code",
   "execution_count": 37,
   "metadata": {},
   "outputs": [],
   "source": [
    "def get_btag_prob(Jets):\n",
    "    b_tag_prob=[]\n",
    "    for e in Jets:\n",
    "        n_btag=0\n",
    "        n_no_tag=0\n",
    "        for i in range(len(e)):\n",
    "            if e['BTag'][i] == 1.0:\n",
    "                n_btag = n_btag + 1\n",
    "            else :\n",
    "                n_no_tag = n_no_tag + 1\n",
    "        b_tag_prob.append(n_btag/len(e))\n",
    "    return b_tag_prob "
   ]
  },
  {
   "cell_type": "code",
   "execution_count": 19,
   "metadata": {},
   "outputs": [],
   "source": [
    "Jets_sig=[Jet_1_sig,Jet_2_sig,Jet_3_sig,Jet_4_sig,Jet_5_sig]\n",
    "Jets_bck=[Jet_1_bck,Jet_2_bck,Jet_3_bck,Jet_4_bck,Jet_5_bck]\n",
    "Jets_tot=[Jet_1_tot,Jet_2_tot,Jet_3_tot,Jet_4_tot,Jet_5_tot]"
   ]
  },
  {
   "cell_type": "code",
   "execution_count": 38,
   "metadata": {},
   "outputs": [],
   "source": [
    "b_tag_prob_sig=get_btag_prob(Jets_sig)\n",
    "b_tag_prob_bck=get_btag_prob(Jets_bck)\n",
    "b_tag_prob_tot=get_btag_prob(Jets_tot)"
   ]
  },
  {
   "cell_type": "markdown",
   "metadata": {},
   "source": [
    "### We now calculate the probability of tagging b-jets for first 5 hard jets in an event for signal and background processes."
   ]
  },
  {
   "cell_type": "code",
   "execution_count": 63,
   "metadata": {},
   "outputs": [
    {
     "data": {
      "text/plain": [
       "<matplotlib.legend.Legend at 0x7f699b7179b0>"
      ]
     },
     "execution_count": 63,
     "metadata": {},
     "output_type": "execute_result"
    },
    {
     "data": {
      "image/png": "[encoded data removed]",
      "text/plain": [
       "<matplotlib.figure.Figure at 0x7f699b6fa518>"
      ]
     },
     "metadata": {},
     "output_type": "display_data"
    }
   ],
   "source": [
    "fig,ax=plt.subplots(figsize=(4,4))\n",
    "num_of_jets=5\n",
    "index=np.arange(num_of_jets)\n",
    "width=0.4\n",
    "\n",
    "ax.bar(index,b_tag_prob_sig,width, alpha=0.55,color='black')\n",
    "ax.bar(index+width,b_tag_prob_bck,width,alpha=0.25,color='black')\n",
    "\n",
    "ax.set_xticks(index+width/2.0 )\n",
    "ax.set_xticklabels( (r'J$_1$', r'J$_2$', r'J$_3$', r'J$_4$', r'J$_5$'))\n",
    "ax.set_ylabel('Probability of b-tagging')\n",
    "ax.legend(('Signal','Background'))"
   ]
  },
  {
   "cell_type": "markdown",
   "metadata": {},
   "source": [
    "## Calculating the longtudinal momentum of the missing neutrino"
   ]
  },
  {
   "cell_type": "code",
   "execution_count": 81,
   "metadata": {
    "scrolled": true
   },
   "outputs": [],
   "source": [
    "Missing_ET_sig=dta_sig['Missing_ET'].apply(pd.Series)\n",
    "Missing_ET_bck=dta_bck['Missing_ET'].apply(pd.Series)\n",
    "Missing_ET_tot=dta_tot['Missing_ET'].apply(pd.Series)\n",
    "\n",
    "Missing_ET_sig.columns=['pT','Eta','Phi']\n",
    "Missing_ET_bck.columns=['pT','Eta','Phi']\n",
    "Missing_ET_tot.columns=['pT','Eta','Phi']"
   ]
  },
  {
   "cell_type": "code",
   "execution_count": 91,
   "metadata": {},
   "outputs": [],
   "source": [
    "MET={'sig':Missing_ET_sig,'bck':Missing_ET_bck,'tot':Missing_ET_tot}"
   ]
  },
  {
   "cell_type": "code",
   "execution_count": 93,
   "metadata": {},
   "outputs": [],
   "source": [
    "MW=80.301\n",
    "\n",
    "for i in range(1):\n",
    "    px_nu=MET['sig']['pT'][i]*math.cos(MET['sig']['Phi'][i])\n",
    "    py_nu=MET['sig']['pT'][i]*math.sin(MET['sig']['Phi'][i])\n",
    "\n",
    "    met=MET['sig']['pT'][i]\n",
    "\n",
    "    px_lep=Lepton['sig']['pT'][i]*math.cos(Lepton['sig']['Phi'][i])\n",
    "    py_lep=Lepton['sig']['pT'][i]*math.sin(Lepton['sig']['Phi'][i])\n",
    "    pz_lep=Lepton['sig']['pT'][i]*math.sinh(Lepton['sig']['Eta'][i])\n",
    "    E_lep =Lepton['sig']['pT'][i]*math.cosh(Lepton['sig']['Eta'][i])\n",
    "\n",
    "    P_lep=math.sqrt(px_lep**2 + py_lep**2 + pz_lep**2)\n",
    "    P_lep_T=Lepton['sig']['pT'][i]\n",
    "\n",
    "    AW=MW**2 + 2.0*(px_lep*px_nu + py_lep*py_nu)\n",
    "    Discrim=AW**2 - 4.0*(P_lep_T*met)**2\n",
    "\n",
    "    if Discrim>0:\n",
    "        pz_nu_p=(0.5/(P_lep_T**2))*(AW*pz_lep + E_lep*math.sqrt(Discrim))\n",
    "        pz_nu_m=(0.5/(P_lep_T**2))*(AW*pz_lep - E_lep*math.sqrt(Discrim))\n",
    "\n",
    "        E_nu_p=math.sqrt(pz_nu_p**2 + met**2)\n",
    "        E_nu_m=math.sqrt(pz_nu_m**2 + met**2)\n",
    "\n",
    "        p_nu_p=[px_nu,py_nu,pz_nu_p,E_nu_p]\n",
    "        p_nu_m=[px_nu,py_nu,pz_nu_m,E_nu_m]\n",
    "    \n",
    "        px_W = px_nu + px_lep\n",
    "        py_W = py_nu + py_lep\n",
    "        \n",
    "        pz_W_p = pz_nu_p + pz_lep\n",
    "        E_W_p  = E_nu_p + E_lep\n",
    "        \n",
    "        pz_W_m = pz_nu_m + pz_lep\n",
    "        E_W_m  = E_nu_m + E_lep\n",
    "        \n",
    "        p_W_p = [px_W,py_W,pz_W_p,E_W_p]\n",
    "        p_W_m = [px_W,py_W,pz_W_m,E_W_m]\n"
   ]
  },
  {
   "cell_type": "code",
   "execution_count": 98,
   "metadata": {},
   "outputs": [
    {
     "name": "stdout",
     "output_type": "stream",
     "text": [
      "67.10372316650056 80.30100000000004\n"
     ]
    }
   ],
   "source": [
    "print(get_invariant_mass(p_nu_p,dta_sig['Lepton'][0]),get_invariant_mass(p_W_m))"
   ]
  },
  {
   "cell_type": "code",
   "execution_count": 141,
   "metadata": {},
   "outputs": [],
   "source": [
    "DelR=defaultdict(pd.DataFrame)\n",
    "for e in ['sig','bck','tot']:\n",
    "    DelR[e]=pd.DataFrame({'DelR12':(Jet_1[e]['Eta']-Jet_2[e]['Eta']),\n",
    "                       'DelR13':(Jet_1[e]['Eta']-Jet_3[e]['Eta']),\n",
    "                       'DelR14':(Jet_1[e]['Eta']-Jet_4[e]['Eta']),\n",
    "                       'DelR23':(Jet_2[e]['Eta']-Jet_3[e]['Eta']),\n",
    "                       'DelR24':(Jet_2[e]['Eta']-Jet_4[e]['Eta'])})"
   ]
  },
  {
   "cell_type": "code",
   "execution_count": 150,
   "metadata": {},
   "outputs": [
    {
     "data": {
      "text/plain": [
       "(array([ 0.00061914,  0.00371483,  0.00247655,  0.00742966,  0.00990622,\n",
       "         0.01238277,  0.01733588,  0.02971865,  0.02909951,  0.03652918,\n",
       "         0.05076937,  0.06005645,  0.06005645,  0.08544113,  0.0897751 ,\n",
       "         0.11515978,  0.11082581,  0.15540379,  0.18636072,  0.19069469,\n",
       "         0.21607937,  0.24517889,  0.24827458,  0.24270233,  0.25756166,\n",
       "         0.26189563,  0.25260855,  0.25879994,  0.24084492,  0.24641717,\n",
       "         0.20741143,  0.18636072,  0.1795502 ,  0.13868705,  0.12444686,\n",
       "         0.0978239 ,  0.10401529,  0.07243922,  0.06315214,  0.05262678,\n",
       "         0.04024401,  0.03652918,  0.02600382,  0.02043157,  0.02352727,\n",
       "         0.01176363,  0.00990622,  0.00309569,  0.00185742,  0.00185742]),\n",
       " array([-4.91845155, -4.7233619 , -4.52827225, -4.3331826 , -4.13809295,\n",
       "        -3.9430033 , -3.74791365, -3.552824  , -3.35773435, -3.1626447 ,\n",
       "        -2.96755505, -2.7724654 , -2.57737575, -2.3822861 , -2.18719645,\n",
       "        -1.9921068 , -1.79701715, -1.6019275 , -1.40683784, -1.21174819,\n",
       "        -1.01665854, -0.82156889, -0.62647924, -0.43138959, -0.23629994,\n",
       "        -0.04121029,  0.15387936,  0.34896901,  0.54405866,  0.73914831,\n",
       "         0.93423796,  1.12932761,  1.32441726,  1.51950691,  1.71459656,\n",
       "         1.90968621,  2.10477586,  2.29986551,  2.49495516,  2.69004481,\n",
       "         2.88513446,  3.08022411,  3.27531376,  3.47040341,  3.66549306,\n",
       "         3.86058271,  4.05567236,  4.25076201,  4.44585166,  4.64094131,\n",
       "         4.83603096]),\n",
       " <a list of 1 Patch objects>)"
      ]
     },
     "execution_count": 150,
     "metadata": {},
     "output_type": "execute_result"
    },
    {
     "data": {
      "image/png": "[encoded data removed]",
      "text/plain": [
       "<matplotlib.figure.Figure at 0x7f6996ab4438>"
      ]
     },
     "metadata": {},
     "output_type": "display_data"
    }
   ],
   "source": [
    "plt.hist(DelR['tot']['DelR12'] ,bins=50,histtype='step',normed=True)"
   ]
  },
  {
   "cell_type": "code",
   "execution_count": null,
   "metadata": {
    "collapsed": true
   },
   "outputs": [],
   "source": [
    "lst_pT={}\n",
    "lst_Eta={}\n",
    "lst_Phi={}\n",
    "lst_bTag={}\n",
    "\n",
    "for i in range(100):\n",
    "    for j in range(len(dta_sig['Jet'][i])):\n",
    "        lst_pT[str(j)]=list(dta_sig['Jet'][i][0][0])\n"
   ]
  },
  {
   "cell_type": "code",
   "execution_count": null,
   "metadata": {
    "collapsed": true
   },
   "outputs": [],
   "source": [
    "lst_pT"
   ]
  },
  {
   "cell_type": "code",
   "execution_count": null,
   "metadata": {
    "collapsed": true
   },
   "outputs": [],
   "source": [
    "Jet={}\n",
    "Jet[str(1)]=pd.DataFrame({'PT':lst_pT,'Eta':lst_Eta,'Phi':lst_Phi,'bTag':lst_bTag})"
   ]
  },
  {
   "cell_type": "code",
   "execution_count": null,
   "metadata": {
    "collapsed": true
   },
   "outputs": [],
   "source": [
    "dta_sig['Jet'][0][0]"
   ]
  },
  {
   "cell_type": "code",
   "execution_count": null,
   "metadata": {
    "collapsed": true
   },
   "outputs": [],
   "source": [
    "from pandas.io.json import json_normalize\n",
    "with open('twbb_sig.json') as file:\n",
    "    data=json.load(file)\n",
    "json_normalize(data,'Lepton','Jet',)"
   ]
  },
  {
   "cell_type": "code",
   "execution_count": null,
   "metadata": {
    "collapsed": true
   },
   "outputs": [],
   "source": [
    "df = pd.DataFrame.from_dict(dta_sig, orient='columns')"
   ]
  },
  {
   "cell_type": "code",
   "execution_count": null,
   "metadata": {
    "collapsed": true
   },
   "outputs": [],
   "source": [
    "jet_id=1\n",
    "lst_PT,lst_Eta,lst_Phi,lst_BTag=[],[],[],[]\n",
    "for i in range(len(dta_sig['Jet'])):\n",
    "    lst_PT.append(df['Jet'][i][jet_id][0])\n",
    "    lst_Eta.append(df['Jet'][i][jet_id][1])\n",
    "    lst_Phi.append(df['Jet'][i][jet_id][2])\n",
    "    lst_BTag.append(df['Jet'][i][jet_id][3])\n",
    "    \n",
    "Jet[str(jet_id+1)]=pd.DataFrame({'PT':lst_PT,'Eta':lst_Eta,'Phi':lst_Phi,'bTag':lst_BTag})    "
   ]
  },
  {
   "cell_type": "code",
   "execution_count": null,
   "metadata": {
    "collapsed": true
   },
   "outputs": [],
   "source": []
  },
  {
   "cell_type": "code",
   "execution_count": null,
   "metadata": {
    "collapsed": true
   },
   "outputs": [],
   "source": []
  },
  {
   "cell_type": "code",
   "execution_count": null,
   "metadata": {
    "collapsed": true
   },
   "outputs": [],
   "source": []
  }
 ],
 "metadata": {
  "kernelspec": {
   "display_name": "Python 3",
   "language": "python",
   "name": "python3"
  },
  "language_info": {
   "codemirror_mode": {
    "name": "ipython",
    "version": 3
   },
   "file_extension": ".py",
   "mimetype": "text/x-python",
   "name": "python",
   "nbconvert_exporter": "python",
   "pygments_lexer": "ipython3",
   "version": "3.4.1"
  }
 },
 "nbformat": 4,
 "nbformat_minor": 2
}
