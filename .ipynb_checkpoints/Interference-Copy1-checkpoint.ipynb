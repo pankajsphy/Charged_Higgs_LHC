{
 "cells": [
  {
   "cell_type": "code",
   "execution_count": 2,
   "metadata": {},
   "outputs": [
    {
     "name": "stderr",
     "output_type": "stream",
     "text": [
      "/usr/local/lib/python3.5/dist-packages/pandas/core/computation/__init__.py:18: UserWarning: The installed version of numexpr 2.4.3 is not supported in pandas and will be not be used\n",
      "The minimum supported version is 2.4.6\n",
      "\n",
      "  ver=ver, min_ver=_MIN_NUMEXPR_VERSION), UserWarning)\n"
     ]
    }
   ],
   "source": [
    "import json\n",
    "import matplotlib as mpl\n",
    "from matplotlib import pyplot as plt\n",
    "import numpy as np\n",
    "import pandas as pd\n",
    "import math\n",
    "from collections import defaultdict\n",
    "%matplotlib inline\n",
    "from helper import *"
   ]
  },
  {
   "cell_type": "markdown",
   "metadata": {},
   "source": [
    "Setting the font sizes for various items in plotting the figures"
   ]
  },
  {
   "cell_type": "code",
   "execution_count": 3,
   "metadata": {
    "collapsed": true
   },
   "outputs": [],
   "source": [
    "SMALL_SIZE = 12\n",
    "MEDIUM_SIZE = 14\n",
    "BIGGER_SIZE = 16\n",
    "\n",
    "plt.rc('font', size=SMALL_SIZE)          # controls default text sizes\n",
    "plt.rc('axes', titlesize=SMALL_SIZE)     # fontsize of the axes title\n",
    "plt.rc('axes', labelsize=MEDIUM_SIZE)    # fontsize of the x and y labels\n",
    "plt.rc('xtick', labelsize=SMALL_SIZE)    # fontsize of the tick labels\n",
    "plt.rc('ytick', labelsize=SMALL_SIZE)    # fontsize of the tick labels\n",
    "plt.rc('legend', fontsize=SMALL_SIZE)    # legend fontsize\n",
    "plt.rc('figure', titlesize=BIGGER_SIZE)  # fontsize of the figure title"
   ]
  },
  {
   "cell_type": "markdown",
   "metadata": {},
   "source": [
    "## Importing the data\n",
    "- The data being imported corresponds to benchmark point BP5 for type II 2HDM,\n",
    "\n",
    "   $$M_{H^+}=548~ \\text{GeV},~ M_A=258~ \\text{GeV},~ \\tan\\beta= 44,~ \\sin(\\beta-\\alpha)=0.99$$ \n",
    "   \n",
    "- twbb_sig.json -> signal events\n",
    "- twbb_bck.json -> background events\n",
    "- twbb_tot.json -> signal + background + interference events"
   ]
  },
  {
   "cell_type": "code",
   "execution_count": 4,
   "metadata": {
    "collapsed": true
   },
   "outputs": [],
   "source": [
    "dta_sig = pd.read_json('twbb_sig.json',orient='records')\n",
    "dta_bck = pd.read_json('twbb_bck.json',orient='records')\n",
    "dta_tot = pd.read_json('twbb_tot.json',orient='records')"
   ]
  },
  {
   "cell_type": "code",
   "execution_count": 123,
   "metadata": {},
   "outputs": [],
   "source": [
    "dta=defaultdict(pd.DataFrame)\n",
    "dta['sig'] = pd.read_json('twbb_sig.json',orient='records')\n",
    "dta['bck'] = pd.read_json('twbb_bck.json',orient='records')\n",
    "dta['tot'] = pd.read_json('twbb_tot.json',orient='records')"
   ]
  },
  {
   "cell_type": "markdown",
   "metadata": {},
   "source": [
    "## Data Cleaning\n",
    "All those events which contain there nan values are removed from the event list. For this purpose, a function 'remove_nan_events()' is included in the helper.py module. This function takes the data files and returns cleaned data file, i.e., after all nan values have been removed and a list which give the event numbers which have been purged."
   ]
  },
  {
   "cell_type": "code",
   "execution_count": 127,
   "metadata": {},
   "outputs": [],
   "source": [
    "process=['sig','bck','tot']\n",
    "deleted_events=defaultdict(list)\n",
    "for e in process:\n",
    "    dta[e],deleted_events[e]=remove_nan_events(dta[e])"
   ]
  },
  {
   "cell_type": "code",
   "execution_count": 129,
   "metadata": {},
   "outputs": [
    {
     "data": {
      "text/plain": [
       "[796, 3477]"
      ]
     },
     "execution_count": 129,
     "metadata": {},
     "output_type": "execute_result"
    }
   ],
   "source": [
    "deleted_events['tot']"
   ]
  },
  {
   "cell_type": "code",
   "execution_count": 5,
   "metadata": {
    "collapsed": true,
    "scrolled": false
   },
   "outputs": [],
   "source": [
    "dta_sig,deleted_events_sig = remove_nan_events(dta_sig)\n",
    "dta_bck,deleted_events_bck = remove_nan_events(dta_bck)\n",
    "dta_tot,deleted_events_tot = remove_nan_events(dta_tot)"
   ]
  },
  {
   "cell_type": "markdown",
   "metadata": {},
   "source": [
    "### CUT-2: Cut on the number of jets in the event.\n",
    "\n",
    "For our process, we expect at least 5 jets at the detector out of which 3 should be b-tagged and remaining are light jets. In the following cut, we just impose to have events where total number of jets are larger or equal to 5. Note that the a cut regarding only one lepton has already been implemented in the json data files."
   ]
  },
  {
   "cell_type": "code",
   "execution_count": 6,
   "metadata": {
    "collapsed": true
   },
   "outputs": [],
   "source": [
    "dta_sig=dta_sig.loc[dta_sig['Jet'].map(len)>4,:]\n",
    "dta_sig.reset_index(drop=True,inplace=True)\n",
    "\n",
    "dta_bck=dta_bck.loc[dta_bck['Jet'].map(len)>4,:]\n",
    "dta_bck.reset_index(drop=True,inplace=True)\n",
    "\n",
    "dta_tot=dta_tot.loc[dta_tot['Jet'].map(len)>4,:]\n",
    "dta_tot.reset_index(drop=True,inplace=True)"
   ]
  },
  {
   "cell_type": "code",
   "execution_count": 7,
   "metadata": {},
   "outputs": [
    {
     "name": "stdout",
     "output_type": "stream",
     "text": [
      "                                       Signal      Background         Total\n",
      "Number of events after Cut-2:          15421           8253           8279\n"
     ]
    }
   ],
   "source": [
    "n_sig_2=len(dta_sig)\n",
    "n_bck_2=len(dta_bck)\n",
    "n_tot_2=len(dta_tot)\n",
    "\n",
    "print('{:>45}{:>16}{:>14}'.format('Signal','Background','Total'))\n",
    "print('Number of events after Cut-2:{:15}{:15}{:15}'.format(n_sig_2,n_bck_2,n_tot_2))"
   ]
  },
  {
   "cell_type": "code",
   "execution_count": 111,
   "metadata": {},
   "outputs": [],
   "source": [
    "chk=defaultdict(lambda:defaultdict(pd.DataFrame))"
   ]
  },
  {
   "cell_type": "code",
   "execution_count": 8,
   "metadata": {
    "collapsed": true,
    "scrolled": false
   },
   "outputs": [],
   "source": [
    "def jet_vars(dta):\n",
    "    \n",
    "    Jet_1=pd.Series([dta['Jet'][i][0] for i in range(len(dta))]).apply(pd.Series)\n",
    "    Jet_2=pd.Series([dta['Jet'][i][1] for i in range(len(dta))]).apply(pd.Series)\n",
    "    Jet_3=pd.Series([dta['Jet'][i][2] for i in range(len(dta))]).apply(pd.Series)\n",
    "    Jet_4=pd.Series([dta['Jet'][i][3] for i in range(len(dta))]).apply(pd.Series)\n",
    "    Jet_5=pd.Series([dta['Jet'][i][4] for i in range(len(dta))]).apply(pd.Series)\n",
    "    \n",
    "    Jet_1.columns=['pT','Eta','Phi','BTag']\n",
    "    Jet_2.columns=['pT','Eta','Phi','BTag']\n",
    "    Jet_3.columns=['pT','Eta','Phi','BTag']\n",
    "    Jet_4.columns=['pT','Eta','Phi','BTag']\n",
    "    Jet_5.columns=['pT','Eta','Phi','BTag']\n",
    "\n",
    "    Jet_1['E']=Jet_1['sig']['pT']*Jet_1['sig']['Eta'].map(math.cosh)\n",
    "    Jet_2['E']=Jet_2['sig']['pT']*Jet_2['sig']['Eta'].map(math.cosh)\n",
    "    Jet_3['E']=Jet_3['sig']['pT']*Jet_3['sig']['Eta'].map(math.cosh)\n",
    "    Jet_4['E']=Jet_4['sig']['pT']*Jet_4['sig']['Eta'].map(math.cosh)\n",
    "    Jet_5['E']=Jet_5['sig']['pT']*Jet_5['sig']['Eta'].map(math.cosh)\n",
    "    \n",
    "    return Jet_1,Jet_2,Jet_3,Jet_4,Jet_5"
   ]
  },
  {
   "cell_type": "code",
   "execution_count": 117,
   "metadata": {
    "collapsed": true,
    "scrolled": false
   },
   "outputs": [],
   "source": [
    "def jet_vars(dta,jet_id):\n",
    "    \n",
    "    Jet=pd.Series([dta['Jet'][i][jet_id] for i in range(len(dta))]).apply(pd.Series)\n",
    "    Jet.columns=['pT','Eta','Phi','BTag']\n",
    "    Jet['E']=Jet['pT']*Jet['Eta'].map(math.cosh)\n",
    "    \n",
    "    return Jet"
   ]
  },
  {
   "cell_type": "code",
   "execution_count": 120,
   "metadata": {},
   "outputs": [],
   "source": [
    "Jet=defaultdict(lambda: defaultdict(pd.DataFrame))\n",
    "for e in ['sig','bck','tot']:\n",
    "    Jet['0'][e]=jet_vars(dta_sig,0)"
   ]
  },
  {
   "cell_type": "code",
   "execution_count": 121,
   "metadata": {},
   "outputs": [
    {
     "data": {
      "text/html": [
       "<div>\n",
       "<style>\n",
       "    .dataframe thead tr:only-child th {\n",
       "        text-align: right;\n",
       "    }\n",
       "\n",
       "    .dataframe thead th {\n",
       "        text-align: left;\n",
       "    }\n",
       "\n",
       "    .dataframe tbody tr th {\n",
       "        vertical-align: top;\n",
       "    }\n",
       "</style>\n",
       "<table border=\"1\" class=\"dataframe\">\n",
       "  <thead>\n",
       "    <tr style=\"text-align: right;\">\n",
       "      <th></th>\n",
       "      <th>pT</th>\n",
       "      <th>Eta</th>\n",
       "      <th>Phi</th>\n",
       "      <th>BTag</th>\n",
       "      <th>E</th>\n",
       "    </tr>\n",
       "  </thead>\n",
       "  <tbody>\n",
       "    <tr>\n",
       "      <th>0</th>\n",
       "      <td>187.052414</td>\n",
       "      <td>0.322156</td>\n",
       "      <td>2.016195</td>\n",
       "      <td>1.0</td>\n",
       "      <td>196.843195</td>\n",
       "    </tr>\n",
       "    <tr>\n",
       "      <th>1</th>\n",
       "      <td>210.458099</td>\n",
       "      <td>-1.237336</td>\n",
       "      <td>-1.166469</td>\n",
       "      <td>1.0</td>\n",
       "      <td>393.196447</td>\n",
       "    </tr>\n",
       "    <tr>\n",
       "      <th>2</th>\n",
       "      <td>129.887039</td>\n",
       "      <td>1.289581</td>\n",
       "      <td>1.603479</td>\n",
       "      <td>0.0</td>\n",
       "      <td>253.711593</td>\n",
       "    </tr>\n",
       "    <tr>\n",
       "      <th>3</th>\n",
       "      <td>277.191559</td>\n",
       "      <td>-0.854368</td>\n",
       "      <td>0.871888</td>\n",
       "      <td>1.0</td>\n",
       "      <td>384.664283</td>\n",
       "    </tr>\n",
       "    <tr>\n",
       "      <th>4</th>\n",
       "      <td>202.663315</td>\n",
       "      <td>-0.780011</td>\n",
       "      <td>0.405586</td>\n",
       "      <td>1.0</td>\n",
       "      <td>267.505078</td>\n",
       "    </tr>\n",
       "    <tr>\n",
       "      <th>5</th>\n",
       "      <td>190.130249</td>\n",
       "      <td>1.974709</td>\n",
       "      <td>0.289743</td>\n",
       "      <td>1.0</td>\n",
       "      <td>698.094004</td>\n",
       "    </tr>\n",
       "    <tr>\n",
       "      <th>6</th>\n",
       "      <td>315.602692</td>\n",
       "      <td>0.397843</td>\n",
       "      <td>1.642555</td>\n",
       "      <td>0.0</td>\n",
       "      <td>340.910503</td>\n",
       "    </tr>\n",
       "    <tr>\n",
       "      <th>7</th>\n",
       "      <td>165.348923</td>\n",
       "      <td>-0.534121</td>\n",
       "      <td>0.066303</td>\n",
       "      <td>1.0</td>\n",
       "      <td>189.500796</td>\n",
       "    </tr>\n",
       "    <tr>\n",
       "      <th>8</th>\n",
       "      <td>797.604675</td>\n",
       "      <td>0.000756</td>\n",
       "      <td>2.163650</td>\n",
       "      <td>1.0</td>\n",
       "      <td>797.604903</td>\n",
       "    </tr>\n",
       "    <tr>\n",
       "      <th>9</th>\n",
       "      <td>126.634674</td>\n",
       "      <td>-1.560745</td>\n",
       "      <td>0.274788</td>\n",
       "      <td>1.0</td>\n",
       "      <td>314.835801</td>\n",
       "    </tr>\n",
       "    <tr>\n",
       "      <th>10</th>\n",
       "      <td>244.320145</td>\n",
       "      <td>-0.378665</td>\n",
       "      <td>0.642790</td>\n",
       "      <td>1.0</td>\n",
       "      <td>262.046673</td>\n",
       "    </tr>\n",
       "    <tr>\n",
       "      <th>11</th>\n",
       "      <td>140.777176</td>\n",
       "      <td>-0.484562</td>\n",
       "      <td>-0.435577</td>\n",
       "      <td>1.0</td>\n",
       "      <td>157.630391</td>\n",
       "    </tr>\n",
       "    <tr>\n",
       "      <th>12</th>\n",
       "      <td>197.533722</td>\n",
       "      <td>2.236435</td>\n",
       "      <td>-2.914045</td>\n",
       "      <td>0.0</td>\n",
       "      <td>935.000153</td>\n",
       "    </tr>\n",
       "    <tr>\n",
       "      <th>13</th>\n",
       "      <td>192.285461</td>\n",
       "      <td>-0.107397</td>\n",
       "      <td>-0.075027</td>\n",
       "      <td>1.0</td>\n",
       "      <td>193.395455</td>\n",
       "    </tr>\n",
       "    <tr>\n",
       "      <th>14</th>\n",
       "      <td>201.773529</td>\n",
       "      <td>0.423676</td>\n",
       "      <td>-3.009746</td>\n",
       "      <td>0.0</td>\n",
       "      <td>220.155315</td>\n",
       "    </tr>\n",
       "    <tr>\n",
       "      <th>15</th>\n",
       "      <td>394.922089</td>\n",
       "      <td>0.494294</td>\n",
       "      <td>0.374834</td>\n",
       "      <td>0.0</td>\n",
       "      <td>444.157459</td>\n",
       "    </tr>\n",
       "    <tr>\n",
       "      <th>16</th>\n",
       "      <td>102.768944</td>\n",
       "      <td>-0.971938</td>\n",
       "      <td>0.911411</td>\n",
       "      <td>0.0</td>\n",
       "      <td>155.253560</td>\n",
       "    </tr>\n",
       "    <tr>\n",
       "      <th>17</th>\n",
       "      <td>218.105316</td>\n",
       "      <td>-0.352864</td>\n",
       "      <td>1.489746</td>\n",
       "      <td>1.0</td>\n",
       "      <td>231.825274</td>\n",
       "    </tr>\n",
       "    <tr>\n",
       "      <th>18</th>\n",
       "      <td>320.772949</td>\n",
       "      <td>-0.626733</td>\n",
       "      <td>0.097710</td>\n",
       "      <td>0.0</td>\n",
       "      <td>385.861210</td>\n",
       "    </tr>\n",
       "    <tr>\n",
       "      <th>19</th>\n",
       "      <td>385.512146</td>\n",
       "      <td>-0.039356</td>\n",
       "      <td>1.611403</td>\n",
       "      <td>1.0</td>\n",
       "      <td>385.810738</td>\n",
       "    </tr>\n",
       "    <tr>\n",
       "      <th>20</th>\n",
       "      <td>216.728226</td>\n",
       "      <td>-0.801510</td>\n",
       "      <td>-0.602474</td>\n",
       "      <td>0.0</td>\n",
       "      <td>290.150916</td>\n",
       "    </tr>\n",
       "    <tr>\n",
       "      <th>21</th>\n",
       "      <td>279.400818</td>\n",
       "      <td>-0.738820</td>\n",
       "      <td>2.229293</td>\n",
       "      <td>1.0</td>\n",
       "      <td>359.189401</td>\n",
       "    </tr>\n",
       "    <tr>\n",
       "      <th>22</th>\n",
       "      <td>278.363403</td>\n",
       "      <td>1.277743</td>\n",
       "      <td>-2.857465</td>\n",
       "      <td>0.0</td>\n",
       "      <td>538.242914</td>\n",
       "    </tr>\n",
       "    <tr>\n",
       "      <th>23</th>\n",
       "      <td>609.056580</td>\n",
       "      <td>-0.018343</td>\n",
       "      <td>2.409311</td>\n",
       "      <td>1.0</td>\n",
       "      <td>609.159049</td>\n",
       "    </tr>\n",
       "    <tr>\n",
       "      <th>24</th>\n",
       "      <td>165.682114</td>\n",
       "      <td>-1.131551</td>\n",
       "      <td>3.104420</td>\n",
       "      <td>0.0</td>\n",
       "      <td>283.564409</td>\n",
       "    </tr>\n",
       "    <tr>\n",
       "      <th>25</th>\n",
       "      <td>341.450287</td>\n",
       "      <td>0.208239</td>\n",
       "      <td>0.273747</td>\n",
       "      <td>1.0</td>\n",
       "      <td>348.880314</td>\n",
       "    </tr>\n",
       "    <tr>\n",
       "      <th>26</th>\n",
       "      <td>184.720139</td>\n",
       "      <td>-0.751179</td>\n",
       "      <td>1.158656</td>\n",
       "      <td>1.0</td>\n",
       "      <td>239.333363</td>\n",
       "    </tr>\n",
       "    <tr>\n",
       "      <th>27</th>\n",
       "      <td>247.959991</td>\n",
       "      <td>0.974433</td>\n",
       "      <td>-2.101198</td>\n",
       "      <td>1.0</td>\n",
       "      <td>375.296299</td>\n",
       "    </tr>\n",
       "    <tr>\n",
       "      <th>28</th>\n",
       "      <td>527.711426</td>\n",
       "      <td>1.112110</td>\n",
       "      <td>1.787149</td>\n",
       "      <td>1.0</td>\n",
       "      <td>889.096660</td>\n",
       "    </tr>\n",
       "    <tr>\n",
       "      <th>29</th>\n",
       "      <td>258.621857</td>\n",
       "      <td>-0.026193</td>\n",
       "      <td>1.089661</td>\n",
       "      <td>0.0</td>\n",
       "      <td>258.710576</td>\n",
       "    </tr>\n",
       "    <tr>\n",
       "      <th>...</th>\n",
       "      <td>...</td>\n",
       "      <td>...</td>\n",
       "      <td>...</td>\n",
       "      <td>...</td>\n",
       "      <td>...</td>\n",
       "    </tr>\n",
       "    <tr>\n",
       "      <th>15391</th>\n",
       "      <td>460.713104</td>\n",
       "      <td>1.543955</td>\n",
       "      <td>2.329307</td>\n",
       "      <td>1.0</td>\n",
       "      <td>1127.965832</td>\n",
       "    </tr>\n",
       "    <tr>\n",
       "      <th>15392</th>\n",
       "      <td>113.539803</td>\n",
       "      <td>0.143671</td>\n",
       "      <td>-3.022959</td>\n",
       "      <td>0.0</td>\n",
       "      <td>114.713623</td>\n",
       "    </tr>\n",
       "    <tr>\n",
       "      <th>15393</th>\n",
       "      <td>222.706451</td>\n",
       "      <td>0.846749</td>\n",
       "      <td>2.376652</td>\n",
       "      <td>1.0</td>\n",
       "      <td>307.430537</td>\n",
       "    </tr>\n",
       "    <tr>\n",
       "      <th>15394</th>\n",
       "      <td>353.313263</td>\n",
       "      <td>-0.761046</td>\n",
       "      <td>-2.121022</td>\n",
       "      <td>0.0</td>\n",
       "      <td>460.665982</td>\n",
       "    </tr>\n",
       "    <tr>\n",
       "      <th>15395</th>\n",
       "      <td>300.621185</td>\n",
       "      <td>-1.328619</td>\n",
       "      <td>-1.011228</td>\n",
       "      <td>1.0</td>\n",
       "      <td>607.355474</td>\n",
       "    </tr>\n",
       "    <tr>\n",
       "      <th>15396</th>\n",
       "      <td>384.186340</td>\n",
       "      <td>0.634661</td>\n",
       "      <td>-0.690834</td>\n",
       "      <td>0.0</td>\n",
       "      <td>464.192650</td>\n",
       "    </tr>\n",
       "    <tr>\n",
       "      <th>15397</th>\n",
       "      <td>285.691895</td>\n",
       "      <td>0.681661</td>\n",
       "      <td>2.385926</td>\n",
       "      <td>1.0</td>\n",
       "      <td>354.677267</td>\n",
       "    </tr>\n",
       "    <tr>\n",
       "      <th>15398</th>\n",
       "      <td>109.913567</td>\n",
       "      <td>-0.298806</td>\n",
       "      <td>-0.818104</td>\n",
       "      <td>0.0</td>\n",
       "      <td>114.857004</td>\n",
       "    </tr>\n",
       "    <tr>\n",
       "      <th>15399</th>\n",
       "      <td>116.074577</td>\n",
       "      <td>0.354051</td>\n",
       "      <td>-1.839704</td>\n",
       "      <td>0.0</td>\n",
       "      <td>123.425971</td>\n",
       "    </tr>\n",
       "    <tr>\n",
       "      <th>15400</th>\n",
       "      <td>189.133835</td>\n",
       "      <td>0.095722</td>\n",
       "      <td>-2.782412</td>\n",
       "      <td>1.0</td>\n",
       "      <td>190.000992</td>\n",
       "    </tr>\n",
       "    <tr>\n",
       "      <th>15401</th>\n",
       "      <td>387.276367</td>\n",
       "      <td>0.610205</td>\n",
       "      <td>-2.455953</td>\n",
       "      <td>1.0</td>\n",
       "      <td>461.642840</td>\n",
       "    </tr>\n",
       "    <tr>\n",
       "      <th>15402</th>\n",
       "      <td>157.636230</td>\n",
       "      <td>0.169522</td>\n",
       "      <td>-2.936897</td>\n",
       "      <td>1.0</td>\n",
       "      <td>159.906717</td>\n",
       "    </tr>\n",
       "    <tr>\n",
       "      <th>15403</th>\n",
       "      <td>201.911987</td>\n",
       "      <td>1.178763</td>\n",
       "      <td>-1.901480</td>\n",
       "      <td>1.0</td>\n",
       "      <td>359.202349</td>\n",
       "    </tr>\n",
       "    <tr>\n",
       "      <th>15404</th>\n",
       "      <td>140.541641</td>\n",
       "      <td>0.704794</td>\n",
       "      <td>-2.925263</td>\n",
       "      <td>0.0</td>\n",
       "      <td>176.916590</td>\n",
       "    </tr>\n",
       "    <tr>\n",
       "      <th>15405</th>\n",
       "      <td>858.062683</td>\n",
       "      <td>1.089469</td>\n",
       "      <td>0.226884</td>\n",
       "      <td>0.0</td>\n",
       "      <td>1419.702964</td>\n",
       "    </tr>\n",
       "    <tr>\n",
       "      <th>15406</th>\n",
       "      <td>612.273987</td>\n",
       "      <td>-1.358305</td>\n",
       "      <td>-1.122131</td>\n",
       "      <td>1.0</td>\n",
       "      <td>1269.455766</td>\n",
       "    </tr>\n",
       "    <tr>\n",
       "      <th>15407</th>\n",
       "      <td>360.993835</td>\n",
       "      <td>-0.494012</td>\n",
       "      <td>-2.643203</td>\n",
       "      <td>1.0</td>\n",
       "      <td>405.946842</td>\n",
       "    </tr>\n",
       "    <tr>\n",
       "      <th>15408</th>\n",
       "      <td>198.471573</td>\n",
       "      <td>-0.561147</td>\n",
       "      <td>-2.370701</td>\n",
       "      <td>0.0</td>\n",
       "      <td>230.548149</td>\n",
       "    </tr>\n",
       "    <tr>\n",
       "      <th>15409</th>\n",
       "      <td>129.320648</td>\n",
       "      <td>-0.591199</td>\n",
       "      <td>-2.519220</td>\n",
       "      <td>1.0</td>\n",
       "      <td>152.586454</td>\n",
       "    </tr>\n",
       "    <tr>\n",
       "      <th>15410</th>\n",
       "      <td>380.961792</td>\n",
       "      <td>0.159605</td>\n",
       "      <td>-0.212614</td>\n",
       "      <td>1.0</td>\n",
       "      <td>385.824389</td>\n",
       "    </tr>\n",
       "    <tr>\n",
       "      <th>15411</th>\n",
       "      <td>251.922028</td>\n",
       "      <td>0.142983</td>\n",
       "      <td>-2.104926</td>\n",
       "      <td>0.0</td>\n",
       "      <td>254.501594</td>\n",
       "    </tr>\n",
       "    <tr>\n",
       "      <th>15412</th>\n",
       "      <td>228.359390</td>\n",
       "      <td>-0.559178</td>\n",
       "      <td>0.177095</td>\n",
       "      <td>1.0</td>\n",
       "      <td>265.001103</td>\n",
       "    </tr>\n",
       "    <tr>\n",
       "      <th>15413</th>\n",
       "      <td>233.773743</td>\n",
       "      <td>0.759948</td>\n",
       "      <td>1.975388</td>\n",
       "      <td>0.0</td>\n",
       "      <td>304.590274</td>\n",
       "    </tr>\n",
       "    <tr>\n",
       "      <th>15414</th>\n",
       "      <td>229.517365</td>\n",
       "      <td>1.103241</td>\n",
       "      <td>-2.125189</td>\n",
       "      <td>1.0</td>\n",
       "      <td>383.949526</td>\n",
       "    </tr>\n",
       "    <tr>\n",
       "      <th>15415</th>\n",
       "      <td>1075.448486</td>\n",
       "      <td>0.757308</td>\n",
       "      <td>-1.771892</td>\n",
       "      <td>1.0</td>\n",
       "      <td>1398.865267</td>\n",
       "    </tr>\n",
       "    <tr>\n",
       "      <th>15416</th>\n",
       "      <td>236.392075</td>\n",
       "      <td>0.665419</td>\n",
       "      <td>-2.694090</td>\n",
       "      <td>0.0</td>\n",
       "      <td>290.686960</td>\n",
       "    </tr>\n",
       "    <tr>\n",
       "      <th>15417</th>\n",
       "      <td>271.361694</td>\n",
       "      <td>0.667002</td>\n",
       "      <td>0.841563</td>\n",
       "      <td>1.0</td>\n",
       "      <td>333.996322</td>\n",
       "    </tr>\n",
       "    <tr>\n",
       "      <th>15418</th>\n",
       "      <td>382.074768</td>\n",
       "      <td>1.853007</td>\n",
       "      <td>-2.551232</td>\n",
       "      <td>1.0</td>\n",
       "      <td>1248.569833</td>\n",
       "    </tr>\n",
       "    <tr>\n",
       "      <th>15419</th>\n",
       "      <td>145.102814</td>\n",
       "      <td>0.003142</td>\n",
       "      <td>-1.124111</td>\n",
       "      <td>0.0</td>\n",
       "      <td>145.103530</td>\n",
       "    </tr>\n",
       "    <tr>\n",
       "      <th>15420</th>\n",
       "      <td>324.227661</td>\n",
       "      <td>0.303592</td>\n",
       "      <td>1.078484</td>\n",
       "      <td>0.0</td>\n",
       "      <td>339.284527</td>\n",
       "    </tr>\n",
       "  </tbody>\n",
       "</table>\n",
       "<p>15421 rows × 5 columns</p>\n",
       "</div>"
      ],
      "text/plain": [
       "                pT       Eta       Phi  BTag            E\n",
       "0       187.052414  0.322156  2.016195   1.0   196.843195\n",
       "1       210.458099 -1.237336 -1.166469   1.0   393.196447\n",
       "2       129.887039  1.289581  1.603479   0.0   253.711593\n",
       "3       277.191559 -0.854368  0.871888   1.0   384.664283\n",
       "4       202.663315 -0.780011  0.405586   1.0   267.505078\n",
       "5       190.130249  1.974709  0.289743   1.0   698.094004\n",
       "6       315.602692  0.397843  1.642555   0.0   340.910503\n",
       "7       165.348923 -0.534121  0.066303   1.0   189.500796\n",
       "8       797.604675  0.000756  2.163650   1.0   797.604903\n",
       "9       126.634674 -1.560745  0.274788   1.0   314.835801\n",
       "10      244.320145 -0.378665  0.642790   1.0   262.046673\n",
       "11      140.777176 -0.484562 -0.435577   1.0   157.630391\n",
       "12      197.533722  2.236435 -2.914045   0.0   935.000153\n",
       "13      192.285461 -0.107397 -0.075027   1.0   193.395455\n",
       "14      201.773529  0.423676 -3.009746   0.0   220.155315\n",
       "15      394.922089  0.494294  0.374834   0.0   444.157459\n",
       "16      102.768944 -0.971938  0.911411   0.0   155.253560\n",
       "17      218.105316 -0.352864  1.489746   1.0   231.825274\n",
       "18      320.772949 -0.626733  0.097710   0.0   385.861210\n",
       "19      385.512146 -0.039356  1.611403   1.0   385.810738\n",
       "20      216.728226 -0.801510 -0.602474   0.0   290.150916\n",
       "21      279.400818 -0.738820  2.229293   1.0   359.189401\n",
       "22      278.363403  1.277743 -2.857465   0.0   538.242914\n",
       "23      609.056580 -0.018343  2.409311   1.0   609.159049\n",
       "24      165.682114 -1.131551  3.104420   0.0   283.564409\n",
       "25      341.450287  0.208239  0.273747   1.0   348.880314\n",
       "26      184.720139 -0.751179  1.158656   1.0   239.333363\n",
       "27      247.959991  0.974433 -2.101198   1.0   375.296299\n",
       "28      527.711426  1.112110  1.787149   1.0   889.096660\n",
       "29      258.621857 -0.026193  1.089661   0.0   258.710576\n",
       "...            ...       ...       ...   ...          ...\n",
       "15391   460.713104  1.543955  2.329307   1.0  1127.965832\n",
       "15392   113.539803  0.143671 -3.022959   0.0   114.713623\n",
       "15393   222.706451  0.846749  2.376652   1.0   307.430537\n",
       "15394   353.313263 -0.761046 -2.121022   0.0   460.665982\n",
       "15395   300.621185 -1.328619 -1.011228   1.0   607.355474\n",
       "15396   384.186340  0.634661 -0.690834   0.0   464.192650\n",
       "15397   285.691895  0.681661  2.385926   1.0   354.677267\n",
       "15398   109.913567 -0.298806 -0.818104   0.0   114.857004\n",
       "15399   116.074577  0.354051 -1.839704   0.0   123.425971\n",
       "15400   189.133835  0.095722 -2.782412   1.0   190.000992\n",
       "15401   387.276367  0.610205 -2.455953   1.0   461.642840\n",
       "15402   157.636230  0.169522 -2.936897   1.0   159.906717\n",
       "15403   201.911987  1.178763 -1.901480   1.0   359.202349\n",
       "15404   140.541641  0.704794 -2.925263   0.0   176.916590\n",
       "15405   858.062683  1.089469  0.226884   0.0  1419.702964\n",
       "15406   612.273987 -1.358305 -1.122131   1.0  1269.455766\n",
       "15407   360.993835 -0.494012 -2.643203   1.0   405.946842\n",
       "15408   198.471573 -0.561147 -2.370701   0.0   230.548149\n",
       "15409   129.320648 -0.591199 -2.519220   1.0   152.586454\n",
       "15410   380.961792  0.159605 -0.212614   1.0   385.824389\n",
       "15411   251.922028  0.142983 -2.104926   0.0   254.501594\n",
       "15412   228.359390 -0.559178  0.177095   1.0   265.001103\n",
       "15413   233.773743  0.759948  1.975388   0.0   304.590274\n",
       "15414   229.517365  1.103241 -2.125189   1.0   383.949526\n",
       "15415  1075.448486  0.757308 -1.771892   1.0  1398.865267\n",
       "15416   236.392075  0.665419 -2.694090   0.0   290.686960\n",
       "15417   271.361694  0.667002  0.841563   1.0   333.996322\n",
       "15418   382.074768  1.853007 -2.551232   1.0  1248.569833\n",
       "15419   145.102814  0.003142 -1.124111   0.0   145.103530\n",
       "15420   324.227661  0.303592  1.078484   0.0   339.284527\n",
       "\n",
       "[15421 rows x 5 columns]"
      ]
     },
     "execution_count": 121,
     "metadata": {},
     "output_type": "execute_result"
    }
   ],
   "source": [
    "Jet['0']['sig']"
   ]
  },
  {
   "cell_type": "code",
   "execution_count": 9,
   "metadata": {
    "collapsed": true
   },
   "outputs": [],
   "source": [
    "Jet_1_sig,Jet_2_sig,Jet_3_sig,Jet_4_sig,Jet_5_sig = jet_vars(dta_sig)\n",
    "Jet_1_bck,Jet_2_bck,Jet_3_bck,Jet_4_bck,Jet_5_bck = jet_vars(dta_bck)\n",
    "Jet_1_tot,Jet_2_tot,Jet_3_tot,Jet_4_tot,Jet_5_tot = jet_vars(dta_tot)"
   ]
  },
  {
   "cell_type": "code",
   "execution_count": 10,
   "metadata": {
    "collapsed": true
   },
   "outputs": [],
   "source": [
    "Jet_1={'sig':Jet_1_sig, 'bck':Jet_1_tot, 'tot':Jet_1_tot}\n",
    "Jet_2={'sig':Jet_2_sig, 'bck':Jet_2_tot, 'tot':Jet_2_tot}\n",
    "Jet_3={'sig':Jet_3_sig, 'bck':Jet_3_tot, 'tot':Jet_3_tot}\n",
    "Jet_4={'sig':Jet_4_sig, 'bck':Jet_4_tot, 'tot':Jet_4_tot}\n",
    "Jet_5={'sig':Jet_5_sig, 'bck':Jet_5_tot, 'tot':Jet_5_tot}"
   ]
  },
  {
   "cell_type": "code",
   "execution_count": 106,
   "metadata": {
    "collapsed": true,
    "scrolled": true
   },
   "outputs": [],
   "source": [
    "Lepton_sig=dta_sig['Lepton'].apply(pd.Series)\n",
    "Lepton_bck=dta_bck['Lepton'].apply(pd.Series)\n",
    "Lepton_tot=dta_tot['Lepton'].apply(pd.Series)\n",
    "\n",
    "Lepton_sig.columns=['pT','Eta','Phi','PId']\n",
    "Lepton_bck.columns=['pT','Eta','Phi','PId']\n",
    "Lepton_tot.columns=['pT','Eta','Phi','PId']\n",
    "\n",
    "Lepton_sig['E']=Lepton['sig']['pT']*Lepton['sig']['Eta'].map(math.cosh)\n",
    "Lepton_bck['E']=Lepton['bck']['pT']*Lepton['bck']['Eta'].map(math.cosh)\n",
    "Lepton_tot['E']=Lepton['tot']['pT']*Lepton['tot']['Eta'].map(math.cosh)\n",
    "\n",
    "Lepton={'sig':Lepton_sig,'bck':Lepton_bck,'tot':Lepton_tot}"
   ]
  },
  {
   "cell_type": "markdown",
   "metadata": {},
   "source": [
    "## Plotting the distributions\n",
    "In the following, we use Dist_plot() function to plot the distributions for various objects in the events. Dist_plot() has been defined in helper.py module and it performs following tasks:\n",
    "- The function takes inputs of list of four momenta corresponding to a object for a number of events for two different processes, i.e., signal and total in the following illustration\n",
    "- It then plots distribution corresponding to transverse momentum $p_T$, pseudo-rapidity $\\eta$ and Energy $E$ of the objects for each process"
   ]
  },
  {
   "cell_type": "code",
   "execution_count": 108,
   "metadata": {},
   "outputs": [
    {
     "data": {
      "text/plain": [
       "<matplotlib.legend.Legend at 0x7f1e626bc668>"
      ]
     },
     "execution_count": 108,
     "metadata": {},
     "output_type": "execute_result"
    },
    {
     "data": {
      "image/png": "[encoded data removed]",
      "text/plain": [
       "<matplotlib.figure.Figure at 0x7f1e62aacbe0>"
      ]
     },
     "metadata": {},
     "output_type": "display_data"
    }
   ],
   "source": [
    "layout=(1,3)\n",
    "fig=plt.figure(figsize=(15,4.5))\n",
    "\n",
    "ax1=plt.subplot2grid(layout,(0,0))\n",
    "_=ax1.hist(Lepton['sig']['pT'],bins=50,histtype='step',normed=True,label='Signal',range=[10,700])\n",
    "_=ax1.hist(Lepton['bck']['pT'],bins=50,histtype='step',normed=True,label='Background')\n",
    "ax1.set_xlabel('Transverse momentum (GeV)')\n",
    "ax1.set_ylabel('Normalized Events')\n",
    "ax1.tick_params(axis='both',direction='in',length=6,width=1.25)\n",
    "ax1.legend()\n",
    "\n",
    "ax2=plt.subplot2grid(layout,(0,1))\n",
    "_=ax2.hist(Lepton['sig']['Eta'],bins=50,histtype='step',normed=True,label='Signal',range=[-5,5])\n",
    "_=ax2.hist(Lepton['bck']['Eta'],bins=50,histtype='step',normed=True,label='Background')\n",
    "ax2.set_xlabel('Rapidity')\n",
    "ax2.tick_params(axis='both',direction='in',length=6,width=1.25)\n",
    "ax2.legend()\n",
    "\n",
    "#Plotting the Lepton energy figures\n",
    "ax2=plt.subplot2grid(layout,(0,2))\n",
    "_=ax2.hist(Lepton['sig']['E'],bins=50,histtype='step',normed=True,label='Signal',range=[0,800])\n",
    "_=ax2.hist(Lepton['bck']['E'],bins=50,histtype='step',normed=True,label='Background',range=[0,800])\n",
    "ax2.set_xlabel('Rapidity')\n",
    "ax2.tick_params(axis='both',direction='in',length=6,width=1.25)\n",
    "ax2.legend()\n"
   ]
  },
  {
   "cell_type": "code",
   "execution_count": 109,
   "metadata": {
    "scrolled": false
   },
   "outputs": [
    {
     "ename": "TypeError",
     "evalue": "a float is required",
     "output_type": "error",
     "traceback": [
      "\u001b[0;31m---------------------------------------------------------------------------\u001b[0m",
      "\u001b[0;31mTypeError\u001b[0m                                 Traceback (most recent call last)",
      "\u001b[0;32m<ipython-input-109-7ab85606b8de>\u001b[0m in \u001b[0;36m<module>\u001b[0;34m()\u001b[0m\n\u001b[1;32m      4\u001b[0m \u001b[0mrange_2\u001b[0m\u001b[0;34m=\u001b[0m\u001b[0;34m[\u001b[0m\u001b[0;36m10\u001b[0m\u001b[0;34m,\u001b[0m\u001b[0;36m800\u001b[0m\u001b[0;34m]\u001b[0m\u001b[0;34m\u001b[0m\u001b[0m\n\u001b[1;32m      5\u001b[0m \u001b[0;34m\u001b[0m\u001b[0m\n\u001b[0;32m----> 6\u001b[0;31m \u001b[0mDist_plot\u001b[0m\u001b[0;34m(\u001b[0m\u001b[0mJet_1_bck\u001b[0m\u001b[0;34m,\u001b[0m\u001b[0mJet_1_tot\u001b[0m\u001b[0;34m,\u001b[0m\u001b[0mfigsize\u001b[0m\u001b[0;34m,\u001b[0m\u001b[0mlabel_1\u001b[0m\u001b[0;34m,\u001b[0m\u001b[0mrange_1\u001b[0m\u001b[0;34m,\u001b[0m\u001b[0mrange_2\u001b[0m\u001b[0;34m)\u001b[0m\u001b[0;34m\u001b[0m\u001b[0m\n\u001b[0m\u001b[1;32m      7\u001b[0m \u001b[0mDist_plot\u001b[0m\u001b[0;34m(\u001b[0m\u001b[0mJet_2_bck\u001b[0m\u001b[0;34m,\u001b[0m\u001b[0mJet_2_tot\u001b[0m\u001b[0;34m,\u001b[0m\u001b[0;34m(\u001b[0m\u001b[0;36m12\u001b[0m\u001b[0;34m,\u001b[0m \u001b[0;36m4\u001b[0m\u001b[0;34m)\u001b[0m\u001b[0;34m,\u001b[0m\u001b[0;34m'Jet_2'\u001b[0m\u001b[0;34m,\u001b[0m\u001b[0;34m[\u001b[0m\u001b[0;36m10\u001b[0m\u001b[0;34m,\u001b[0m\u001b[0;36m1000\u001b[0m\u001b[0;34m]\u001b[0m\u001b[0;34m,\u001b[0m\u001b[0;34m[\u001b[0m\u001b[0;36m10\u001b[0m\u001b[0;34m,\u001b[0m\u001b[0;36m600\u001b[0m\u001b[0;34m]\u001b[0m\u001b[0;34m)\u001b[0m\u001b[0;34m\u001b[0m\u001b[0m\n\u001b[1;32m      8\u001b[0m \u001b[0mDist_plot\u001b[0m\u001b[0;34m(\u001b[0m\u001b[0mJet_3_bck\u001b[0m\u001b[0;34m,\u001b[0m\u001b[0mJet_3_tot\u001b[0m\u001b[0;34m,\u001b[0m\u001b[0;34m(\u001b[0m\u001b[0;36m12\u001b[0m\u001b[0;34m,\u001b[0m \u001b[0;36m4\u001b[0m\u001b[0;34m)\u001b[0m\u001b[0;34m,\u001b[0m\u001b[0;34m'Jet_3'\u001b[0m\u001b[0;34m,\u001b[0m\u001b[0;34m[\u001b[0m\u001b[0;36m10\u001b[0m\u001b[0;34m,\u001b[0m\u001b[0;36m800\u001b[0m\u001b[0;34m]\u001b[0m\u001b[0;34m,\u001b[0m\u001b[0;34m[\u001b[0m\u001b[0;36m10\u001b[0m\u001b[0;34m,\u001b[0m\u001b[0;36m500\u001b[0m\u001b[0;34m]\u001b[0m\u001b[0;34m)\u001b[0m\u001b[0;34m\u001b[0m\u001b[0m\n",
      "\u001b[0;32m/home/pankaj/Dropbox/Documents/Project/Stefano/Interference/helper.py\u001b[0m in \u001b[0;36mDist_plot\u001b[0;34m(part_mom_sig, part_mom_tot, *args)\u001b[0m\n\u001b[1;32m    123\u001b[0m     \u001b[0meta_ax\u001b[0m\u001b[0;34m.\u001b[0m\u001b[0mset_xlabel\u001b[0m\u001b[0;34m(\u001b[0m\u001b[0;34m'Rapidity'\u001b[0m\u001b[0;34m)\u001b[0m\u001b[0;34m\u001b[0m\u001b[0m\n\u001b[1;32m    124\u001b[0m \u001b[0;34m\u001b[0m\u001b[0m\n\u001b[0;32m--> 125\u001b[0;31m     \u001b[0mpart_E_sig\u001b[0m\u001b[0;34m,\u001b[0m \u001b[0mpart_pT_sig\u001b[0m\u001b[0;34m,\u001b[0m \u001b[0mpart_eta_sig\u001b[0m \u001b[0;34m=\u001b[0m \u001b[0mvars_event\u001b[0m\u001b[0;34m(\u001b[0m\u001b[0mpart_mom_sig\u001b[0m\u001b[0;34m)\u001b[0m\u001b[0;34m\u001b[0m\u001b[0m\n\u001b[0m\u001b[1;32m    126\u001b[0m     \u001b[0mpart_E_tot\u001b[0m\u001b[0;34m,\u001b[0m \u001b[0mpart_pT_tot\u001b[0m\u001b[0;34m,\u001b[0m \u001b[0mpart_eta_tot\u001b[0m \u001b[0;34m=\u001b[0m \u001b[0mvars_event\u001b[0m\u001b[0;34m(\u001b[0m\u001b[0mpart_mom_tot\u001b[0m\u001b[0;34m)\u001b[0m\u001b[0;34m\u001b[0m\u001b[0m\n\u001b[1;32m    127\u001b[0m \u001b[0;34m\u001b[0m\u001b[0m\n",
      "\u001b[0;32m/home/pankaj/Dropbox/Documents/Project/Stefano/Interference/helper.py\u001b[0m in \u001b[0;36mvars_event\u001b[0;34m(part_mom)\u001b[0m\n\u001b[1;32m     23\u001b[0m \u001b[0;34m\u001b[0m\u001b[0m\n\u001b[1;32m     24\u001b[0m \u001b[0;32mdef\u001b[0m \u001b[0mvars_event\u001b[0m\u001b[0;34m(\u001b[0m\u001b[0mpart_mom\u001b[0m\u001b[0;34m)\u001b[0m\u001b[0;34m:\u001b[0m\u001b[0;34m\u001b[0m\u001b[0m\n\u001b[0;32m---> 25\u001b[0;31m     \u001b[0mpart_E\u001b[0m   \u001b[0;34m=\u001b[0m \u001b[0;34m[\u001b[0m\u001b[0me\u001b[0m\u001b[0;34m[\u001b[0m\u001b[0;36m0\u001b[0m\u001b[0;34m]\u001b[0m\u001b[0;34m*\u001b[0m\u001b[0mmath\u001b[0m\u001b[0;34m.\u001b[0m\u001b[0mcosh\u001b[0m\u001b[0;34m(\u001b[0m\u001b[0me\u001b[0m\u001b[0;34m[\u001b[0m\u001b[0;36m1\u001b[0m\u001b[0;34m]\u001b[0m\u001b[0;34m)\u001b[0m \u001b[0;32mfor\u001b[0m \u001b[0me\u001b[0m \u001b[0;32min\u001b[0m \u001b[0mpart_mom\u001b[0m\u001b[0;34m]\u001b[0m\u001b[0;34m\u001b[0m\u001b[0m\n\u001b[0m\u001b[1;32m     26\u001b[0m     \u001b[0mpart_pT\u001b[0m  \u001b[0;34m=\u001b[0m \u001b[0;34m[\u001b[0m\u001b[0me\u001b[0m\u001b[0;34m[\u001b[0m\u001b[0;36m0\u001b[0m\u001b[0;34m]\u001b[0m \u001b[0;32mfor\u001b[0m \u001b[0me\u001b[0m \u001b[0;32min\u001b[0m \u001b[0mpart_mom\u001b[0m\u001b[0;34m]\u001b[0m\u001b[0;34m\u001b[0m\u001b[0m\n\u001b[1;32m     27\u001b[0m     \u001b[0mpart_eta\u001b[0m \u001b[0;34m=\u001b[0m \u001b[0;34m[\u001b[0m\u001b[0me\u001b[0m\u001b[0;34m[\u001b[0m\u001b[0;36m1\u001b[0m\u001b[0;34m]\u001b[0m \u001b[0;32mfor\u001b[0m \u001b[0me\u001b[0m \u001b[0;32min\u001b[0m \u001b[0mpart_mom\u001b[0m\u001b[0;34m]\u001b[0m\u001b[0;34m\u001b[0m\u001b[0m\n",
      "\u001b[0;32m/home/pankaj/Dropbox/Documents/Project/Stefano/Interference/helper.py\u001b[0m in \u001b[0;36m<listcomp>\u001b[0;34m(.0)\u001b[0m\n\u001b[1;32m     23\u001b[0m \u001b[0;34m\u001b[0m\u001b[0m\n\u001b[1;32m     24\u001b[0m \u001b[0;32mdef\u001b[0m \u001b[0mvars_event\u001b[0m\u001b[0;34m(\u001b[0m\u001b[0mpart_mom\u001b[0m\u001b[0;34m)\u001b[0m\u001b[0;34m:\u001b[0m\u001b[0;34m\u001b[0m\u001b[0m\n\u001b[0;32m---> 25\u001b[0;31m     \u001b[0mpart_E\u001b[0m   \u001b[0;34m=\u001b[0m \u001b[0;34m[\u001b[0m\u001b[0me\u001b[0m\u001b[0;34m[\u001b[0m\u001b[0;36m0\u001b[0m\u001b[0;34m]\u001b[0m\u001b[0;34m*\u001b[0m\u001b[0mmath\u001b[0m\u001b[0;34m.\u001b[0m\u001b[0mcosh\u001b[0m\u001b[0;34m(\u001b[0m\u001b[0me\u001b[0m\u001b[0;34m[\u001b[0m\u001b[0;36m1\u001b[0m\u001b[0;34m]\u001b[0m\u001b[0;34m)\u001b[0m \u001b[0;32mfor\u001b[0m \u001b[0me\u001b[0m \u001b[0;32min\u001b[0m \u001b[0mpart_mom\u001b[0m\u001b[0;34m]\u001b[0m\u001b[0;34m\u001b[0m\u001b[0m\n\u001b[0m\u001b[1;32m     26\u001b[0m     \u001b[0mpart_pT\u001b[0m  \u001b[0;34m=\u001b[0m \u001b[0;34m[\u001b[0m\u001b[0me\u001b[0m\u001b[0;34m[\u001b[0m\u001b[0;36m0\u001b[0m\u001b[0;34m]\u001b[0m \u001b[0;32mfor\u001b[0m \u001b[0me\u001b[0m \u001b[0;32min\u001b[0m \u001b[0mpart_mom\u001b[0m\u001b[0;34m]\u001b[0m\u001b[0;34m\u001b[0m\u001b[0m\n\u001b[1;32m     27\u001b[0m     \u001b[0mpart_eta\u001b[0m \u001b[0;34m=\u001b[0m \u001b[0;34m[\u001b[0m\u001b[0me\u001b[0m\u001b[0;34m[\u001b[0m\u001b[0;36m1\u001b[0m\u001b[0;34m]\u001b[0m \u001b[0;32mfor\u001b[0m \u001b[0me\u001b[0m \u001b[0;32min\u001b[0m \u001b[0mpart_mom\u001b[0m\u001b[0;34m]\u001b[0m\u001b[0;34m\u001b[0m\u001b[0m\n",
      "\u001b[0;31mTypeError\u001b[0m: a float is required"
     ]
    },
    {
     "data": {
      "image/png": "[encoded data removed]",
      "text/plain": [
       "<matplotlib.figure.Figure at 0x7f1e62a91a58>"
      ]
     },
     "metadata": {},
     "output_type": "display_data"
    }
   ],
   "source": [
    "figsize=(12,4)\n",
    "label_1='Jet_1'\n",
    "range_1=[10,1000]\n",
    "range_2=[10,800]\n",
    "\n",
    "Dist_plot(Jet_1_bck,Jet_1_tot,figsize,label_1,range_1,range_2)\n",
    "Dist_plot(Jet_2_bck,Jet_2_tot,(12, 4),'Jet_2',[10,1000],[10,600])\n",
    "Dist_plot(Jet_3_bck,Jet_3_tot,(12, 4),'Jet_3',[10,800],[10,500])\n",
    "Dist_plot(Jet_4_bck,Jet_4_tot,(12, 4),'Jet_4',[10,700],[10,400])\n",
    "Dist_plot(Jet_5_bck,Jet_5_tot,(12, 4),'Jet_5',[10,600],[10,300])"
   ]
  },
  {
   "cell_type": "code",
   "execution_count": 50,
   "metadata": {
    "collapsed": true
   },
   "outputs": [],
   "source": [
    "DelR=defaultdict(pd.DataFrame)\n",
    "for e in ['sig','bck','tot']:\n",
    "    DelR[e]=pd.DataFrame({'DelR12':(Jet_1[e]['Eta']-Jet_2[e]['Eta']),   #1\n",
    "                          'DelR13':(Jet_1[e]['Eta']-Jet_3[e]['Eta']),   #2\n",
    "                          'DelR14':(Jet_1[e]['Eta']-Jet_4[e]['Eta']),   #3\n",
    "                          'DelR15':(Jet_1[e]['Eta']-Jet_5[e]['Eta']),   #4\n",
    "                          'DelR23':(Jet_2[e]['Eta']-Jet_3[e]['Eta']),   #5\n",
    "                          'DelR24':(Jet_2[e]['Eta']-Jet_4[e]['Eta']),   #6\n",
    "                          'DelR25':(Jet_2[e]['Eta']-Jet_5[e]['Eta']),   #7\n",
    "                          'DelR24':(Jet_3[e]['Eta']-Jet_4[e]['Eta']),   #8\n",
    "                          'DelR24':(Jet_3[e]['Eta']-Jet_5[e]['Eta']),   #9\n",
    "                          'DelR24':(Jet_4[e]['Eta']-Jet_5[e]['Eta'])})  #10"
   ]
  },
  {
   "cell_type": "code",
   "execution_count": 53,
   "metadata": {},
   "outputs": [
    {
     "data": {
      "text/plain": [
       "<matplotlib.legend.Legend at 0x7f1e67ad4588>"
      ]
     },
     "execution_count": 53,
     "metadata": {},
     "output_type": "execute_result"
    },
    {
     "data": {
      "image/png": "[encoded data removed]",
      "text/plain": [
       "<matplotlib.figure.Figure at 0x7f1e6a6852b0>"
      ]
     },
     "metadata": {},
     "output_type": "display_data"
    }
   ],
   "source": [
    "layout=(2,3)\n",
    "fig=plt.figure(figsize=(15,10))\n",
    "\n",
    "ax1=plt.subplot2grid(layout,(0,0))\n",
    "_=ax1.hist(DelR['sig']['DelR12'],bins=50,histtype='step',normed=True,label='Signal')\n",
    "_=ax1.hist(DelR['tot']['DelR12'],bins=50,histtype='step',normed=True,label='Background')\n",
    "ax1.set_xlabel(r'$\\Delta R_{12}$')\n",
    "ax1.set_ylabel('Normalized Events')\n",
    "ax1.legend()\n",
    "\n",
    "ax2=plt.subplot2grid(layout,(0,1))\n",
    "_=ax2.hist(DelR['sig']['DelR13'],bins=50,histtype='step',normed=True,label='Signal')\n",
    "_=ax2.hist(DelR['tot']['DelR13'],bins=50,histtype='step',normed=True,label='Background')\n",
    "ax2.set_xlabel(r'$\\Delta R_{13}$')\n",
    "ax2.legend()\n",
    "\n",
    "ax3=plt.subplot2grid(layout,(0,2))\n",
    "_=ax3.hist(DelR['sig']['DelR14'],bins=50,histtype='step',normed=True,label='Signal')\n",
    "_=ax3.hist(DelR['tot']['DelR14'],bins=50,histtype='step',normed=True,label='Background')\n",
    "ax3.set_xlabel(r'$\\Delta R_{14}$')\n",
    "ax3.legend()\n",
    "\n",
    "ax4=plt.subplot2grid(layout,(1,0))\n",
    "_=ax4.hist(DelR['sig']['DelR23'],bins=50,histtype='step',normed=True,label='Signal')\n",
    "_=ax4.hist(DelR['tot']['DelR23'],bins=50,histtype='step',normed=True,label='Background')\n",
    "ax4.set_xlabel(r'$\\Delta R_{23}$')\n",
    "ax4.legend()\n",
    "\n",
    "ax5=plt.subplot2grid(layout,(1,1))\n",
    "_=ax5.hist(DelR['sig']['DelR24'],bins=50,histtype='step',normed=True,label='Signal')\n",
    "_=ax5.hist(DelR['tot']['DelR24'],bins=50,histtype='step',normed=True,label='Background')\n",
    "ax5.set_xlabel(r'$\\Delta R_{24}$')\n",
    "ax5.legend()\n",
    "\n",
    "ax6=plt.subplot2grid(layout,(1,2))\n",
    "_=ax6.hist(DelR['sig']['DelR25'],bins=50,histtype='step',normed=True,label='Signal')\n",
    "_=ax6.hist(DelR['tot']['DelR25'],bins=50,histtype='step',normed=True,label='Background')\n",
    "ax6.set_xlabel(r'$\\Delta R_{25}$')\n",
    "ax6.legend()"
   ]
  },
  {
   "cell_type": "markdown",
   "metadata": {},
   "source": [
    "### We now calculate the probability of tagging b-jets for first 5 hard jets in an event for signal and background processes."
   ]
  },
  {
   "cell_type": "code",
   "execution_count": null,
   "metadata": {
    "collapsed": true
   },
   "outputs": [],
   "source": [
    "def get_btag_prob(Jets):\n",
    "    b_tag_prob=[]\n",
    "    for e in Jets:\n",
    "        n_btag=0\n",
    "        n_no_tag=0\n",
    "        for i in range(len(e)):\n",
    "            if e['BTag'][i] == 1.0:\n",
    "                n_btag = n_btag + 1\n",
    "            else :\n",
    "                n_no_tag = n_no_tag + 1\n",
    "        b_tag_prob.append(n_btag/len(e))\n",
    "    return b_tag_prob "
   ]
  },
  {
   "cell_type": "code",
   "execution_count": null,
   "metadata": {
    "collapsed": true
   },
   "outputs": [],
   "source": [
    "Jets_sig=[Jet_1_sig,Jet_2_sig,Jet_3_sig,Jet_4_sig,Jet_5_sig]\n",
    "Jets_bck=[Jet_1_bck,Jet_2_bck,Jet_3_bck,Jet_4_bck,Jet_5_bck]\n",
    "Jets_tot=[Jet_1_tot,Jet_2_tot,Jet_3_tot,Jet_4_tot,Jet_5_tot]"
   ]
  },
  {
   "cell_type": "code",
   "execution_count": null,
   "metadata": {
    "collapsed": true
   },
   "outputs": [],
   "source": [
    "b_tag_prob_sig=get_btag_prob(Jets_sig)\n",
    "b_tag_prob_bck=get_btag_prob(Jets_bck)\n",
    "b_tag_prob_tot=get_btag_prob(Jets_tot)"
   ]
  },
  {
   "cell_type": "code",
   "execution_count": null,
   "metadata": {
    "collapsed": true
   },
   "outputs": [],
   "source": [
    "fig,ax=plt.subplots(figsize=(4,4))\n",
    "num_of_jets=5\n",
    "index=np.arange(num_of_jets)\n",
    "width=0.4\n",
    "\n",
    "ax.bar(index,b_tag_prob_sig,width, alpha=0.55,color='black')\n",
    "ax.bar(index+width,b_tag_prob_bck,width,alpha=0.25,color='black')\n",
    "\n",
    "ax.set_xticks(index+width/2.0 )\n",
    "ax.set_xticklabels( (r'J$_1$', r'J$_2$', r'J$_3$', r'J$_4$', r'J$_5$'))\n",
    "ax.set_ylabel('Probability of b-tagging')\n",
    "ax.legend(('Signal','Background'))"
   ]
  },
  {
   "cell_type": "markdown",
   "metadata": {},
   "source": [
    "## Calculating the longtudinal momentum of the missing neutrino"
   ]
  },
  {
   "cell_type": "code",
   "execution_count": null,
   "metadata": {
    "collapsed": true,
    "scrolled": true
   },
   "outputs": [],
   "source": [
    "Missing_ET_sig=dta_sig['Missing_ET'].apply(pd.Series)\n",
    "Missing_ET_bck=dta_bck['Missing_ET'].apply(pd.Series)\n",
    "Missing_ET_tot=dta_tot['Missing_ET'].apply(pd.Series)\n",
    "\n",
    "Missing_ET_sig.columns=['pT','Eta','Phi']\n",
    "Missing_ET_bck.columns=['pT','Eta','Phi']\n",
    "Missing_ET_tot.columns=['pT','Eta','Phi']"
   ]
  },
  {
   "cell_type": "code",
   "execution_count": null,
   "metadata": {
    "collapsed": true
   },
   "outputs": [],
   "source": [
    "MET={'sig':Missing_ET_sig,'bck':Missing_ET_bck,'tot':Missing_ET_tot}"
   ]
  },
  {
   "cell_type": "code",
   "execution_count": null,
   "metadata": {
    "collapsed": true
   },
   "outputs": [],
   "source": [
    "MW=80.301\n",
    "\n",
    "for i in range(1):\n",
    "    px_nu=MET['sig']['pT'][i]*math.cos(MET['sig']['Phi'][i])\n",
    "    py_nu=MET['sig']['pT'][i]*math.sin(MET['sig']['Phi'][i])\n",
    "\n",
    "    met=MET['sig']['pT'][i]\n",
    "\n",
    "    px_lep=Lepton['sig']['pT'][i]*math.cos(Lepton['sig']['Phi'][i])\n",
    "    py_lep=Lepton['sig']['pT'][i]*math.sin(Lepton['sig']['Phi'][i])\n",
    "    pz_lep=Lepton['sig']['pT'][i]*math.sinh(Lepton['sig']['Eta'][i])\n",
    "    E_lep =Lepton['sig']['pT'][i]*math.cosh(Lepton['sig']['Eta'][i])\n",
    "\n",
    "    P_lep=math.sqrt(px_lep**2 + py_lep**2 + pz_lep**2)\n",
    "    P_lep_T=Lepton['sig']['pT'][i]\n",
    "\n",
    "    AW=MW**2 + 2.0*(px_lep*px_nu + py_lep*py_nu)\n",
    "    Discrim=AW**2 - 4.0*(P_lep_T*met)**2\n",
    "\n",
    "    if Discrim>0:\n",
    "        pz_nu_p=(0.5/(P_lep_T**2))*(AW*pz_lep + E_lep*math.sqrt(Discrim))\n",
    "        pz_nu_m=(0.5/(P_lep_T**2))*(AW*pz_lep - E_lep*math.sqrt(Discrim))\n",
    "\n",
    "        E_nu_p=math.sqrt(pz_nu_p**2 + met**2)\n",
    "        E_nu_m=math.sqrt(pz_nu_m**2 + met**2)\n",
    "\n",
    "        p_nu_p=[px_nu,py_nu,pz_nu_p,E_nu_p]\n",
    "        p_nu_m=[px_nu,py_nu,pz_nu_m,E_nu_m]\n",
    "    \n",
    "        px_W = px_nu + px_lep\n",
    "        py_W = py_nu + py_lep\n",
    "        \n",
    "        pz_W_p = pz_nu_p + pz_lep\n",
    "        E_W_p  = E_nu_p + E_lep\n",
    "        \n",
    "        pz_W_m = pz_nu_m + pz_lep\n",
    "        E_W_m  = E_nu_m + E_lep\n",
    "        \n",
    "        p_W_p = [px_W,py_W,pz_W_p,E_W_p]\n",
    "        p_W_m = [px_W,py_W,pz_W_m,E_W_m]\n"
   ]
  },
  {
   "cell_type": "code",
   "execution_count": null,
   "metadata": {
    "collapsed": true
   },
   "outputs": [],
   "source": [
    "print(get_invariant_mass(p_nu_p,dta_sig['Lepton'][0]),get_invariant_mass(p_W_m))"
   ]
  },
  {
   "cell_type": "code",
   "execution_count": 50,
   "metadata": {
    "collapsed": true
   },
   "outputs": [],
   "source": []
  },
  {
   "cell_type": "code",
   "execution_count": null,
   "metadata": {},
   "outputs": [],
   "source": []
  },
  {
   "cell_type": "code",
   "execution_count": null,
   "metadata": {
    "collapsed": true
   },
   "outputs": [],
   "source": []
  }
 ],
 "metadata": {
  "kernelspec": {
   "display_name": "Python 3",
   "language": "python",
   "name": "python3"
  },
  "language_info": {
   "codemirror_mode": {
    "name": "ipython",
    "version": 3
   },
   "file_extension": ".py",
   "mimetype": "text/x-python",
   "name": "python",
   "nbconvert_exporter": "python",
   "pygments_lexer": "ipython3",
   "version": "3.5.2"
  }
 },
 "nbformat": 4,
 "nbformat_minor": 2
}
